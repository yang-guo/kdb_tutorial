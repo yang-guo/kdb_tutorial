{
 "cells": [
  {
   "cell_type": "code",
   "execution_count": 16,
   "metadata": {
    "collapsed": true
   },
   "outputs": [],
   "source": [
    "from qpython import qconnection\n",
    "import pandas\n",
    "import numpy\n",
    "import json"
   ]
  },
  {
   "cell_type": "code",
   "execution_count": 2,
   "metadata": {
    "collapsed": true
   },
   "outputs": [],
   "source": [
    "conn = qconnection.QConnection(host = 'localhost', port = 7778) #7778 rdb #7779 hdb\n",
    "conn.open()"
   ]
  },
  {
   "cell_type": "code",
   "execution_count": 12,
   "metadata": {
    "collapsed": false
   },
   "outputs": [],
   "source": [
    "tbl = conn.sync(\"select from tweets\", pandas = True)"
   ]
  },
  {
   "cell_type": "code",
   "execution_count": 10,
   "metadata": {
    "collapsed": false,
    "scrolled": true
   },
   "outputs": [],
   "source": [
    "tbl = conn.sync(\"`x xdesc select count i by sym from tweets\", pandas = True)"
   ]
  },
  {
   "cell_type": "code",
   "execution_count": 21,
   "metadata": {
    "collapsed": false
   },
   "outputs": [
    {
     "data": {
      "text/plain": [
       "4"
      ]
     },
     "execution_count": 21,
     "metadata": {},
     "output_type": "execute_result"
    }
   ],
   "source": [
    "conn.sync(\"{x+x} 2\")"
   ]
  },
  {
   "cell_type": "code",
   "execution_count": 17,
   "metadata": {
    "collapsed": false
   },
   "outputs": [
    {
     "data": {
      "text/plain": [
       "{u'contributors': None,\n",
       " u'coordinates': None,\n",
       " u'created_at': u'Thu Aug 25 22:55:43 +0000 2016',\n",
       " u'entities': {u'hashtags': [],\n",
       "  u'symbols': [],\n",
       "  u'urls': [{u'display_url': u'bittopper.com/item/79641850e\\u2026',\n",
       "    u'expanded_url': u'https://www.bittopper.com/item/79641850ef6588e281c020ae998277c592be8/',\n",
       "    u'indices': [61, 84],\n",
       "    u'url': u'https://t.co/HqeRJdpKKS'}],\n",
       "  u'user_mentions': []},\n",
       " u'favorite_count': 0,\n",
       " u'favorited': False,\n",
       " u'filter_level': u'low',\n",
       " u'geo': None,\n",
       " u'id': 768944976935866368,\n",
       " u'id_str': u'768944976935866368',\n",
       " u'in_reply_to_screen_name': None,\n",
       " u'in_reply_to_status_id': None,\n",
       " u'in_reply_to_status_id_str': None,\n",
       " u'in_reply_to_user_id': None,\n",
       " u'in_reply_to_user_id_str': None,\n",
       " u'is_quote_status': False,\n",
       " u'lang': u'en',\n",
       " u'place': None,\n",
       " u'possibly_sensitive': False,\n",
       " u'retweet_count': 0,\n",
       " u'retweeted': False,\n",
       " u'source': u'<a href=\"https://www.bittopper.com/\" rel=\"nofollow\">Christmas Gifts 4</a>',\n",
       " u'text': u'Expert C Programming: Deep C Secrets by Peter van der Linden https://t.co/HqeRJdpKKS',\n",
       " u'timestamp_ms': u'1472165743465',\n",
       " u'truncated': False,\n",
       " u'user': {u'contributors_enabled': False,\n",
       "  u'created_at': u'Wed Jul 20 04:22:11 +0000 2016',\n",
       "  u'default_profile': True,\n",
       "  u'default_profile_image': False,\n",
       "  u'description': None,\n",
       "  u'favourites_count': 0,\n",
       "  u'follow_request_sent': None,\n",
       "  u'followers_count': 251,\n",
       "  u'following': None,\n",
       "  u'friends_count': 183,\n",
       "  u'geo_enabled': False,\n",
       "  u'id': 755618781376851968,\n",
       "  u'id_str': u'755618781376851968',\n",
       "  u'is_translator': False,\n",
       "  u'lang': u'en',\n",
       "  u'listed_count': 57,\n",
       "  u'location': None,\n",
       "  u'name': u'#followback',\n",
       "  u'notifications': None,\n",
       "  u'profile_background_color': u'F5F8FA',\n",
       "  u'profile_background_image_url': u'',\n",
       "  u'profile_background_image_url_https': u'',\n",
       "  u'profile_background_tile': False,\n",
       "  u'profile_image_url': u'http://pbs.twimg.com/profile_images/757335897268363265/vcfeZc_m_normal.jpg',\n",
       "  u'profile_image_url_https': u'https://pbs.twimg.com/profile_images/757335897268363265/vcfeZc_m_normal.jpg',\n",
       "  u'profile_link_color': u'2B7BB9',\n",
       "  u'profile_sidebar_border_color': u'C0DEED',\n",
       "  u'profile_sidebar_fill_color': u'DDEEF6',\n",
       "  u'profile_text_color': u'333333',\n",
       "  u'profile_use_background_image': True,\n",
       "  u'protected': False,\n",
       "  u'screen_name': u'watchgabbro1',\n",
       "  u'statuses_count': 69032,\n",
       "  u'time_zone': None,\n",
       "  u'url': u'https://www.bittopper.com',\n",
       "  u'utc_offset': None,\n",
       "  u'verified': False}}"
      ]
     },
     "execution_count": 17,
     "metadata": {},
     "output_type": "execute_result"
    }
   ],
   "source": [
    "json.loads(tbl.payload[0])"
   ]
  },
  {
   "cell_type": "code",
   "execution_count": null,
   "metadata": {
    "collapsed": true
   },
   "outputs": [],
   "source": []
  }
 ],
 "metadata": {
  "kernelspec": {
   "display_name": "Python 2",
   "language": "python",
   "name": "python2"
  },
  "language_info": {
   "codemirror_mode": {
    "name": "ipython",
    "version": 2
   },
   "file_extension": ".py",
   "mimetype": "text/x-python",
   "name": "python",
   "nbconvert_exporter": "python",
   "pygments_lexer": "ipython2",
   "version": "2.7.11"
  }
 },
 "nbformat": 4,
 "nbformat_minor": 1
}
